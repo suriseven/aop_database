{
 "cells": [
  {
   "cell_type": "code",
   "execution_count": 2,
   "id": "9aa1cddb",
   "metadata": {},
   "outputs": [
    {
     "name": "stderr",
     "output_type": "stream",
     "text": [
      "/home/minsul/anaconda3/envs/aop/lib/python3.11/site-packages/urllib3/connectionpool.py:1097: InsecureRequestWarning: Unverified HTTPS request is being made to host 'aopwiki.org'. Adding certificate verification is strongly advised. See: https://urllib3.readthedocs.io/en/latest/advanced-usage.html#tls-warnings\n",
      "  warnings.warn(\n"
     ]
    }
   ],
   "source": [
    "import requests\n",
    "from bs4 import BeautifulSoup\n",
    "import csv\n",
    "\n",
    "url = 'https://aopwiki.org/stressors'  # ← Replace this with your actual URL\n",
    "response = requests.get(url, verify=False)\n",
    "soup = BeautifulSoup(response.text, 'html.parser')\n",
    "\n",
    "table = soup.find('table')\n",
    "rows = table.find_all('tr')\n",
    "\n",
    "output = []\n",
    "\n",
    "for row in rows:\n",
    "    cols = row.find_all(['td', 'th'])\n",
    "\n",
    "    # Extract raw elements for processing\n",
    "    col_elements = [col for col in cols]\n",
    "\n",
    "    # Check if any <td> contains <li>\n",
    "    if any(col.find('li') for col in col_elements):\n",
    "        # Find the column(s) with <li>s\n",
    "        list_col_index = [i for i, col in enumerate(col_elements) if col.find('li')]\n",
    "\n",
    "        # Assume only one column contains <li>s (can extend if needed)\n",
    "        for li in col_elements[list_col_index[0]].find_all('li'):\n",
    "            new_row = []\n",
    "            for i, col in enumerate(col_elements):\n",
    "                if i in list_col_index:\n",
    "                    new_row.append(li.get_text(strip=True))\n",
    "                else:\n",
    "                    new_row.append(col.get_text(strip=True))\n",
    "            output.append(new_row)\n",
    "    else:\n",
    "        # Normal row\n",
    "        output.append([col.get_text(strip=True) for col in col_elements])\n",
    "\n",
    "# Write to CSV\n",
    "with open('stressors.csv', 'w', newline='', encoding='utf-8') as f:\n",
    "    writer = csv.writer(f)\n",
    "    writer.writerows(output)\n"
   ]
  },
  {
   "cell_type": "code",
   "execution_count": null,
   "id": "e41abfc9",
   "metadata": {},
   "outputs": [
    {
     "data": {
      "text/plain": [
       "ID                                                                                         32\n",
       "Prototypical Stressor Name                                                          Letrozole\n",
       "Associated Chemical(s): Name, CAS-RN, DTXSID    Fadrozole, CAS-RN: 102676-47-1, DTXSID5034141\n",
       "Associated AOPs                                                                       153,346\n",
       "Name: 32, dtype: object"
      ]
     },
     "execution_count": 4,
     "metadata": {},
     "output_type": "execute_result"
    }
   ],
   "source": [
    "import pandas as pd\n",
    "\n",
    "df = pd.read_csv('stressors.csv')\n",
    "\n",
    "df.iloc[33,]"
   ]
  },
  {
   "cell_type": "code",
   "execution_count": 5,
   "id": "aa4e7b15",
   "metadata": {},
   "outputs": [
    {
     "data": {
      "text/plain": [
       "ID                                                                                    33\n",
       "Prototypical Stressor Name                                                         Maneb\n",
       "Associated Chemical(s): Name, CAS-RN, DTXSID    Maneb, CAS-RN: 12427-38-2, DTXSID9020794\n",
       "Associated AOPs                                                                      242\n",
       "Name: 33, dtype: object"
      ]
     },
     "execution_count": 5,
     "metadata": {},
     "output_type": "execute_result"
    }
   ],
   "source": [
    "df.iloc[33,]"
   ]
  },
  {
   "cell_type": "code",
   "execution_count": 6,
   "id": "12a80234",
   "metadata": {},
   "outputs": [],
   "source": [
    "import csv\n",
    "\n",
    "input_file = 'stressors.csv'     # your downloaded CSV\n",
    "output_file = 'expanded_stressors.csv' # the result file\n",
    "\n",
    "with open(input_file, newline='', encoding='utf-8') as infile, \\\n",
    "     open(output_file, 'w', newline='', encoding='utf-8') as outfile:\n",
    "    \n",
    "    reader = csv.reader(infile)\n",
    "    writer = csv.writer(outfile)\n",
    "\n",
    "    header = next(reader)\n",
    "    writer.writerow(header)\n",
    "\n",
    "    for row in reader:\n",
    "        aops = row[3].split(',') if row[3] else ['']\n",
    "        for aop in aops:\n",
    "            new_row = row[:3] + [aop.strip()]\n",
    "            writer.writerow(new_row)\n"
   ]
  }
 ],
 "metadata": {
  "kernelspec": {
   "display_name": "Python 3",
   "language": "python",
   "name": "python3"
  },
  "language_info": {
   "codemirror_mode": {
    "name": "ipython",
    "version": 3
   },
   "file_extension": ".py",
   "mimetype": "text/x-python",
   "name": "python",
   "nbconvert_exporter": "python",
   "pygments_lexer": "ipython3",
   "version": "3.11.11"
  }
 },
 "nbformat": 4,
 "nbformat_minor": 5
}
