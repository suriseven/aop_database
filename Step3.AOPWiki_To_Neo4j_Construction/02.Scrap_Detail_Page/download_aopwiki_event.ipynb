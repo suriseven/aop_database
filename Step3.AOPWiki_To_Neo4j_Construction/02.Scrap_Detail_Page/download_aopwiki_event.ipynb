{
 "cells": [
  {
   "cell_type": "code",
   "execution_count": null,
   "id": "cbb966e4",
   "metadata": {},
   "outputs": [],
   "source": [
    "import requests\n",
    "import os\n",
    "from multiprocessing import Pool\n",
    "import warnings\n",
    "warnings.filterwarnings(\"ignore\")\n",
    "\n",
    "base_url = 'https://aopwiki.org/events'\n",
    "save_dir = 'events'\n",
    "\n",
    "def download(start_id):\n",
    "    os.makedirs(save_dir, exist_ok=True)\n",
    "    for i in range(start_id, start_id+100):\n",
    "        url = f'{base_url}/{i}'\n",
    "        download_dir = os.path.join(save_dir, f'{i}')    \n",
    "        download_path = os.path.join(download_dir, f'{i}.html')\n",
    "\n",
    "        response = requests.get(url, verify=False)\n",
    "        \n",
    "        if response.status_code == 200: \n",
    "            if 'This event does not exist.' not in response.text:      \n",
    "                os.makedirs(download_dir, exist_ok=True)\n",
    "                with open(download_path, 'w', encoding='utf-8') as f:\n",
    "                    f.write(response.text)\n",
    "                print(\"Page downloaded successfully.\")\n",
    "            else:\n",
    "                print(f'event id {i} does not exist')\n",
    "        else:\n",
    "            print(f\"Failed to retrieve the page. Status code: {response.status_code}\")\n",
    "\n",
    "def create_jobs(start=1, end=2400, chunk_size=100):\n",
    "    \"\"\"Create a list of start_ids for jobs like 1, 101, 201...\"\"\"\n",
    "    return list(range(start, end + 1, chunk_size))\n",
    "\n",
    "\n",
    "\n",
    "jobs = create_jobs(start=1, end=2500, chunk_size=20)\n",
    "with Pool(processes=20) as pool:  # Adjust number of processes as needed\n",
    "    results = pool.map(download, jobs)\n",
    "\n",
    "print(\"All jobs done.\")\n",
    "for res in results:\n",
    "    print(res)"
   ]
  }
 ],
 "metadata": {
  "kernelspec": {
   "display_name": "Python 3",
   "language": "python",
   "name": "python3"
  },
  "language_info": {
   "codemirror_mode": {
    "name": "ipython",
    "version": 3
   },
   "file_extension": ".py",
   "mimetype": "text/x-python",
   "name": "python",
   "nbconvert_exporter": "python",
   "pygments_lexer": "ipython3",
   "version": "3.11.11"
  }
 },
 "nbformat": 4,
 "nbformat_minor": 5
}
