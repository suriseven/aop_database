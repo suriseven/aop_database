{
  "cells": [
    {
      "cell_type": "code",
      "execution_count": null,
      "metadata": {
        "colab": {
          "base_uri": "https://localhost:8080/"
        },
        "id": "poy4WU0uToaZ",
        "outputId": "ef63a893-9350-4332-f1e3-be8d133a3f08"
      },
      "outputs": [],
      "source": [
        "! pip install selenium==3.141.0"
      ]
    },
    {
      "cell_type": "code",
      "execution_count": null,
      "metadata": {
        "colab": {
          "base_uri": "https://localhost:8080/"
        },
        "id": "sIgV8m75TxNG",
        "outputId": "1e5913cc-8eae-4ef6-d640-dd0dd40b643a"
      },
      "outputs": [],
      "source": [
        "! pip install urllib3==1.26.11"
      ]
    },
    {
      "cell_type": "code",
      "execution_count": null,
      "metadata": {
        "colab": {
          "base_uri": "https://localhost:8080/"
        },
        "id": "3RnZ_a59T1Nv",
        "outputId": "e0a4190e-4cbf-4bf1-cbb7-490671f2d976"
      },
      "outputs": [],
      "source": [
        "! pip install chardet==5.2.0"
      ]
    },
    {
      "cell_type": "code",
      "execution_count": null,
      "metadata": {
        "colab": {
          "base_uri": "https://localhost:8080/"
        },
        "id": "Le4e1bC7IiIq",
        "outputId": "608c6307-8086-446d-99b2-42ae60abfac9"
      },
      "outputs": [],
      "source": [
        "! wget https://storage.googleapis.com/chrome-for-testing-public/133.0.6943.98/linux64/chromedriver-linux64.zip"
      ]
    },
    {
      "cell_type": "code",
      "execution_count": null,
      "metadata": {
        "colab": {
          "base_uri": "https://localhost:8080/"
        },
        "id": "DaRTh1F2T3K2",
        "outputId": "a863d8bd-c244-42e1-b55e-1bc902ae57fd"
      },
      "outputs": [],
      "source": [
        "! unzip chromedriver-linux64.zip"
      ]
    },
    {
      "cell_type": "code",
      "execution_count": null,
      "metadata": {
        "colab": {
          "base_uri": "https://localhost:8080/"
        },
        "id": "A9ufV0kxUjGN",
        "outputId": "fba1a4bd-a863-4a8c-ac3c-594a9df1c2d6"
      },
      "outputs": [],
      "source": [
        "! sudo apt install -y libvulkan1"
      ]
    },
    {
      "cell_type": "code",
      "execution_count": null,
      "metadata": {
        "colab": {
          "base_uri": "https://localhost:8080/"
        },
        "id": "Fn1pNoAQI1vb",
        "outputId": "bd0c35dd-b837-4257-8647-3d44cd17658c"
      },
      "outputs": [],
      "source": [
        "! wget https://dl.google.com/linux/direct/google-chrome-stable_current_amd64.deb"
      ]
    },
    {
      "cell_type": "code",
      "execution_count": null,
      "metadata": {
        "colab": {
          "base_uri": "https://localhost:8080/"
        },
        "id": "Tbi6Y7PKUErq",
        "outputId": "cab8c507-3f8f-4dc1-cece-082340b555aa"
      },
      "outputs": [],
      "source": [
        "! sudo dpkg -i google-chrome-stable_current_amd64.deb"
      ]
    },
    {
      "cell_type": "code",
      "execution_count": null,
      "metadata": {
        "colab": {
          "base_uri": "https://localhost:8080/"
        },
        "id": "uDT1aHgHVjXh",
        "outputId": "46bddb06-c7cb-4e44-9aac-0205f38f1185"
      },
      "outputs": [],
      "source": [
        "! ps -ef |grep chrome | awk '{print $2}' | xargs kill -9"
      ]
    },
    {
      "cell_type": "code",
      "execution_count": null,
      "metadata": {
        "colab": {
          "base_uri": "https://localhost:8080/",
          "height": 1000
        },
        "id": "sNHpdVeO_wMh",
        "outputId": "f2ea3815-3e79-428e-d7af-ff038ef14ebd"
      },
      "outputs": [],
      "source": [
        "from selenium import webdriver\n",
        "from selenium.webdriver.common.action_chains import ActionChains\n",
        "from selenium.webdriver.chrome.options import Options\n",
        "from selenium.webdriver.common.by import By\n",
        "import time\n",
        "import os\n",
        "\n",
        "download_dir = '/home/ubuntu/toxcast_collect/chemicals'\n",
        "chromedriver_path = 'chromedriver-linux64/chromedriver'\n",
        "chemicals_id_file = 'chemicals_id'\n",
        "\n",
        "waiting_seconds = 10\n",
        "\n",
        "# Set up Chrome options for headless mode\n",
        "chrome_options = Options()\n",
        "chrome_options.add_argument(\"--headless\")  # Run Chrome in headless mode\n",
        "chrome_options.add_argument(\"--disable-gpu\")  # Disable GPU acceleration (recommended for headless)\n",
        "chrome_options.add_argument(\"--no-sandbox\")  # Prevents errors in certain environments (like Docker)\n",
        "\n",
        "# Specify the download directory\n",
        "prefs = {\n",
        "    \"download.default_directory\": download_dir,  # Set download directory\n",
        "    \"download.prompt_for_download\": False,        # Disable download prompt\n",
        "    \"directory_upgrade\": True                     # Allow changing the download directory\n",
        "}\n",
        "\n",
        "chrome_options.add_experimental_option(\"prefs\", prefs)\n",
        "\n",
        "with open(chemicals_id_file, 'r') as f:\n",
        "    lines = f.readlines()\n",
        "    for i, l in enumerate(lines):\n",
        "        chemical_name = l.replace('\\n','')\n",
        "\n",
        "        # Set up the WebDriver (Make sure you've downloaded the correct WebDriver for your browser)\n",
        "        driver = webdriver.Chrome(executable_path=chromedriver_path, options=chrome_options)  # Provide your chromedriver path\n",
        "        driver.set_window_size(1920, 1080)\n",
        "\n",
        "        #driver.maximize_window()\n",
        "        url = f'https://comptox.epa.gov/dashboard/chemical-lists/{chemical_name}'\n",
        "        driver.get(url)  # Replace with the URL of the webpage you want to automate\n",
        "\n",
        "        print(i, url)\n",
        "\n",
        "        print('waiting for page loading')\n",
        "        # Give the page some time to load\n",
        "        time.sleep(waiting_seconds)  # You can adjust the sleep time depending on your network speed\n",
        "\n",
        "        # Locate the <span> element with exact text \"Export data\"\n",
        "        span_element = driver.find_element(By.XPATH, \"//span[normalize-space()='Export Data']\")\n",
        "\n",
        "        driver.execute_script(f\"window.scrollTo(0, {span_element.location['y']});\")\n",
        "\n",
        "        actions = ActionChains(driver)\n",
        "\n",
        "        # Alternatively, using ActionChains (if needed)\n",
        "        actions.move_by_offset(1615, 10).click()\n",
        "        actions.move_by_offset(0, 80).click().perform()\n",
        "\n",
        "        # waiting to be downloaded\n",
        "        time.sleep(waiting_seconds)\n",
        "\n",
        "        # Close the browser\n",
        "        driver.quit()\n"
      ]
    }
  ],
  "metadata": {
    "colab": {
      "provenance": []
    },
    "kernelspec": {
      "display_name": "toxcast",
      "language": "python",
      "name": "python3"
    },
    "language_info": {
      "codemirror_mode": {
        "name": "ipython",
        "version": 3
      },
      "file_extension": ".py",
      "mimetype": "text/x-python",
      "name": "python",
      "nbconvert_exporter": "python",
      "pygments_lexer": "ipython3",
      "version": "3.10.16"
    }
  },
  "nbformat": 4,
  "nbformat_minor": 0
}
