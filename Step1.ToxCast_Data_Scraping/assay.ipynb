{
  "cells": [
    {
      "cell_type": "code",
      "execution_count": null,
      "metadata": {
        "colab": {
          "base_uri": "https://localhost:8080/"
        },
        "id": "poy4WU0uToaZ",
        "outputId": "0fc313a4-17c0-4610-e24f-c09de9a97cb5"
      },
      "outputs": [],
      "source": [
        "! pip install selenium==3.141.0"
      ]
    },
    {
      "cell_type": "code",
      "execution_count": null,
      "metadata": {
        "colab": {
          "base_uri": "https://localhost:8080/"
        },
        "id": "sIgV8m75TxNG",
        "outputId": "3448e430-db51-49af-a3f5-31f949a5c8a3"
      },
      "outputs": [],
      "source": [
        "! pip install urllib3==1.26.11"
      ]
    },
    {
      "cell_type": "code",
      "execution_count": null,
      "metadata": {
        "colab": {
          "base_uri": "https://localhost:8080/"
        },
        "id": "3RnZ_a59T1Nv",
        "outputId": "2bc4881a-981e-4f58-8d7d-47a97f0cbec3"
      },
      "outputs": [],
      "source": [
        "! pip install chardet==5.2.0"
      ]
    },
    {
      "cell_type": "code",
      "execution_count": null,
      "metadata": {
        "colab": {
          "base_uri": "https://localhost:8080/"
        },
        "id": "Le4e1bC7IiIq",
        "outputId": "60d8c9e9-b68e-49ce-d579-e7ee2acb77d3"
      },
      "outputs": [],
      "source": [
        "! wget https://storage.googleapis.com/chrome-for-testing-public/133.0.6943.98/linux64/chromedriver-linux64.zip"
      ]
    },
    {
      "cell_type": "code",
      "execution_count": null,
      "metadata": {
        "colab": {
          "base_uri": "https://localhost:8080/"
        },
        "id": "DaRTh1F2T3K2",
        "outputId": "900b84f4-e0e9-40d8-d45b-5cf5031fd7b8"
      },
      "outputs": [],
      "source": [
        "! unzip chromedriver-linux64.zip"
      ]
    },
    {
      "cell_type": "code",
      "execution_count": null,
      "metadata": {
        "colab": {
          "base_uri": "https://localhost:8080/"
        },
        "id": "A9ufV0kxUjGN",
        "outputId": "05291a24-b681-4aec-d270-14256e14c284"
      },
      "outputs": [],
      "source": [
        "! sudo apt install -y libvulkan1"
      ]
    },
    {
      "cell_type": "code",
      "execution_count": null,
      "metadata": {
        "colab": {
          "base_uri": "https://localhost:8080/"
        },
        "id": "Fn1pNoAQI1vb",
        "outputId": "f2d3e863-5218-4e55-afd2-fdef883176a0"
      },
      "outputs": [],
      "source": [
        "! wget https://dl.google.com/linux/direct/google-chrome-stable_current_amd64.deb"
      ]
    },
    {
      "cell_type": "code",
      "execution_count": null,
      "metadata": {
        "colab": {
          "base_uri": "https://localhost:8080/"
        },
        "id": "Tbi6Y7PKUErq",
        "outputId": "620a6856-c46e-46cd-d538-c89bb997ee49"
      },
      "outputs": [],
      "source": [
        "! sudo dpkg -i google-chrome-stable_current_amd64.deb"
      ]
    },
    {
      "cell_type": "code",
      "execution_count": null,
      "metadata": {
        "colab": {
          "base_uri": "https://localhost:8080/"
        },
        "id": "uDT1aHgHVjXh",
        "outputId": "46bddb06-c7cb-4e44-9aac-0205f38f1185"
      },
      "outputs": [],
      "source": [
        "! ps -ef |grep chrome | awk '{print $2}' | xargs kill -9"
      ]
    },
    {
      "cell_type": "code",
      "execution_count": null,
      "metadata": {
        "colab": {
          "base_uri": "https://localhost:8080/"
        },
        "id": "rpwLmAZ-TaHj",
        "outputId": "44a786e6-e683-4e9b-ef27-3ef84492bacc"
      },
      "outputs": [],
      "source": [
        "from selenium import webdriver\n",
        "from selenium.webdriver.common.action_chains import ActionChains\n",
        "from selenium.webdriver.chrome.options import Options\n",
        "from selenium.webdriver.common.by import By\n",
        "import time\n",
        "import os\n",
        "\n",
        "download_dir = '/home/ubuntu/toxcast_collect/assays'\n",
        "chromedriver_path = 'chromedriver-linux64/chromedriver'\n",
        "assays_id_file = 'assays_id'\n",
        "\n",
        "waiting_seconds = 5\n",
        "\n",
        "\n",
        "# Set up Chrome options for headless mode\n",
        "chrome_options = Options()\n",
        "chrome_options.add_argument(\"--headless\")  # Run Chrome in headless mode\n",
        "chrome_options.add_argument(\"--disable-gpu\")  # Disable GPU acceleration (recommended for headless)\n",
        "chrome_options.add_argument(\"--no-sandbox\")  # Prevents errors in certain environments (like Docker)\n",
        "\n",
        "# Specify the download directory\n",
        "prefs = {\n",
        "    \"download.default_directory\": download_dir,  # Set download directory\n",
        "    \"download.prompt_for_download\": False,        # Disable download prompt\n",
        "    \"directory_upgrade\": True                     # Allow changing the download directory\n",
        "}\n",
        "\n",
        "chrome_options.add_experimental_option(\"prefs\", prefs)\n",
        "\n",
        "with open(assays_id_file, 'r') as f:\n",
        "    lines = f.readlines()\n",
        "    for i, l in enumerate(lines):\n",
        "        assay_name = l.replace('\\n','')\n",
        "\n",
        "\n",
        "        # Set up the WebDriver (Make sure you've downloaded the correct WebDriver for your browser)\n",
        "        driver = webdriver.Chrome(executable_path=chromedriver_path, options=chrome_options)  # Provide your chromedriver path\n",
        "        driver.set_window_size(1920, 1080)\n",
        "\n",
        "        #driver.maximize_window()\n",
        "        url = f'https://comptox.epa.gov/dashboard/assay-endpoints/{assay_name}'\n",
        "        driver.get(url)  # Replace with the URL of the webpage you want to automate\n",
        "\n",
        "        print(i, url)\n",
        "\n",
        "        print('waiting for page loading')\n",
        "        # Give the page some time to load\n",
        "        time.sleep(waiting_seconds)  # You can adjust the sleep time depending on your network speed\n",
        "\n",
        "        # Locate the <span> element with exact text \"Export data\"\n",
        "        span_element = driver.find_element(By.XPATH, \"//span[normalize-space()='Export Data']\")\n",
        "\n",
        "        driver.execute_script(f\"window.scrollTo(0, {span_element.location['y']});\")\n",
        "\n",
        "        actions_activate = ActionChains(driver)\n",
        "\n",
        "        # Alternatively, using ActionChains (if needed)\n",
        "        actions_activate.move_by_offset(1200, 10).click()\n",
        "        actions_activate.move_by_offset(0, 200).click().perform()\n",
        "        actions_save = ActionChains(driver)\n",
        "        actions_save.move_by_offset(420, -200).click()\n",
        "        actions_save.move_by_offset(0, 80).click().perform()\n",
        "\n",
        "        time.sleep(waiting_seconds)\n",
        "\n",
        "        # Close the browser\n",
        "        driver.quit()\n"
      ]
    }
  ],
  "metadata": {
    "colab": {
      "provenance": []
    },
    "kernelspec": {
      "display_name": "toxcast",
      "language": "python",
      "name": "python3"
    },
    "language_info": {
      "codemirror_mode": {
        "name": "ipython",
        "version": 3
      },
      "file_extension": ".py",
      "mimetype": "text/x-python",
      "name": "python",
      "nbconvert_exporter": "python",
      "pygments_lexer": "ipython3",
      "version": "3.10.16"
    }
  },
  "nbformat": 4,
  "nbformat_minor": 0
}
