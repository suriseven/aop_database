{
  "cells": [
    {
      "cell_type": "code",
      "execution_count": null,
      "metadata": {
        "colab": {
          "base_uri": "https://localhost:8080/"
        },
        "id": "poy4WU0uToaZ",
        "outputId": "158decb5-432d-4f16-c60b-71d4f5005fec"
      },
      "outputs": [],
      "source": [
        "! pip install selenium==3.141.0"
      ]
    },
    {
      "cell_type": "code",
      "execution_count": null,
      "metadata": {
        "colab": {
          "base_uri": "https://localhost:8080/"
        },
        "id": "sIgV8m75TxNG",
        "outputId": "b2b1ad49-6726-4ec8-a343-1910e258a26c"
      },
      "outputs": [],
      "source": [
        "! pip install urllib3==1.26.11"
      ]
    },
    {
      "cell_type": "code",
      "execution_count": null,
      "metadata": {
        "colab": {
          "base_uri": "https://localhost:8080/"
        },
        "id": "3RnZ_a59T1Nv",
        "outputId": "2e9848da-f871-42a9-be91-fd8ff66e5e8d"
      },
      "outputs": [],
      "source": [
        "! pip install chardet==5.2.0"
      ]
    },
    {
      "cell_type": "code",
      "execution_count": null,
      "metadata": {
        "colab": {
          "base_uri": "https://localhost:8080/"
        },
        "id": "Le4e1bC7IiIq",
        "outputId": "b56a6e0a-5898-4cdd-ac28-6a98ed832bcf"
      },
      "outputs": [],
      "source": [
        "! wget https://storage.googleapis.com/chrome-for-testing-public/133.0.6943.98/linux64/chromedriver-linux64.zip"
      ]
    },
    {
      "cell_type": "code",
      "execution_count": null,
      "metadata": {
        "colab": {
          "base_uri": "https://localhost:8080/"
        },
        "id": "DaRTh1F2T3K2",
        "outputId": "84cadf75-f930-4aca-cfee-25e1ec643c96"
      },
      "outputs": [],
      "source": [
        "! unzip chromedriver-linux64.zip"
      ]
    },
    {
      "cell_type": "code",
      "execution_count": null,
      "metadata": {
        "colab": {
          "base_uri": "https://localhost:8080/"
        },
        "id": "A9ufV0kxUjGN",
        "outputId": "a0698cfb-79ce-4f13-e950-2794474d2643"
      },
      "outputs": [],
      "source": [
        "! sudo apt install -y libvulkan1"
      ]
    },
    {
      "cell_type": "code",
      "execution_count": null,
      "metadata": {
        "colab": {
          "base_uri": "https://localhost:8080/"
        },
        "id": "Fn1pNoAQI1vb",
        "outputId": "c269b545-c06e-4d4b-8928-c366d2d06d2d"
      },
      "outputs": [],
      "source": [
        "! wget https://dl.google.com/linux/direct/google-chrome-stable_current_amd64.deb"
      ]
    },
    {
      "cell_type": "code",
      "execution_count": null,
      "metadata": {
        "colab": {
          "base_uri": "https://localhost:8080/"
        },
        "id": "Tbi6Y7PKUErq",
        "outputId": "1371fe95-66c5-4768-ae82-f609372be3de"
      },
      "outputs": [],
      "source": [
        "! sudo dpkg -i google-chrome-stable_current_amd64.deb"
      ]
    },
    {
      "cell_type": "code",
      "execution_count": null,
      "metadata": {
        "colab": {
          "base_uri": "https://localhost:8080/"
        },
        "id": "uDT1aHgHVjXh",
        "outputId": "5936bdf1-9ea5-45da-8dc0-bb0c4b5b8cc6"
      },
      "outputs": [],
      "source": [
        "! ps -ef |grep chrome | awk '{print $2}' | xargs kill -9"
      ]
    },
    {
      "cell_type": "code",
      "execution_count": null,
      "metadata": {
        "colab": {
          "base_uri": "https://localhost:8080/"
        },
        "id": "gnfHdSuZ9skj",
        "outputId": "9e47cf21-7f72-4f6e-8027-223f3b0b8ad4"
      },
      "outputs": [],
      "source": [
        "from selenium import webdriver\n",
        "from selenium.webdriver.common.action_chains import ActionChains\n",
        "from selenium.webdriver.chrome.options import Options\n",
        "from selenium.webdriver.common.by import By\n",
        "import time\n",
        "import os\n",
        "import requests\n",
        "import ssl\n",
        "import urllib.request\n",
        "\n",
        "os.environ['OPENSSL_CONF'] = '/usr/lib/ssl/openssl.cnf'\n",
        "\n",
        "# Function to check if the webpage exists using requests\n",
        "def is_page_available(url):\n",
        "    try:\n",
        "        ctx = ssl.create_default_context(ssl.Purpose.SERVER_AUTH)\n",
        "        ctx.options |= 0x4\n",
        "        response = urllib.request.urlopen(url, context=ctx)\n",
        "        if response.status == 200:\n",
        "            return True\n",
        "        else:\n",
        "            return False\n",
        "\n",
        "    except Exception as e:\n",
        "        # print(f\"Page {url} does not exist\")\n",
        "        return False\n",
        "\n",
        "url_prefix = 'DTXSID'\n",
        "download_dir = '/home/ubuntu/toxcast_collect/bioactivities'\n",
        "chromedriver_path = '/home/ubuntu/toxcast_collect/chromedriver-linux64/chromedriver'\n",
        "dtxsids_file = 'DTXSIDs'\n",
        "\n",
        "waiting_seconds = 10\n",
        "\n",
        "# Set up Chrome options for headless mode\n",
        "chrome_options = Options()\n",
        "chrome_options.add_argument(\"--headless\")  # Run Chrome in headless mode\n",
        "chrome_options.add_argument(\"--disable-gpu\")  # Disable GPU acceleration (recommended for headless)\n",
        "chrome_options.add_argument(\"--no-sandbox\")  # Prevents errors in certain environments (like Docker)\n",
        "\n",
        "# Specify the download directory\n",
        "prefs = {\n",
        "    \"download.default_directory\": download_dir,  # Set download directory\n",
        "    \"download.prompt_for_download\": False,        # Disable download prompt\n",
        "    \"directory_upgrade\": True                     # Allow changing the download directory\n",
        "}\n",
        "\n",
        "chrome_options.add_experimental_option(\"prefs\", prefs)\n",
        "\n",
        "with open(dtxsids_file, 'r') as f:\n",
        "    lines = f.readlines()\n",
        "\n",
        "    for i, line in enumerate(lines):\n",
        "        dtxsid = line.strip()\n",
        "        url = f\"https://comptox.epa.gov/dashboard/chemical/invitrodb/{dtxsid}\"\n",
        "\n",
        "        if is_page_available(url):\n",
        "            print(f'page {url} is available')\n",
        "\n",
        "            # Set up the WebDriver (Make sure you've downloaded the correct WebDriver for your browser)\n",
        "            driver = webdriver.Chrome(executable_path=chromedriver_path, options=chrome_options)  # Provide your chromedriver path\n",
        "            driver.set_window_size(1920, 1080)\n",
        "            #driver.maximize_window()\n",
        "            print(f'waiting for page loading {url}')\n",
        "            driver.get(url)\n",
        "            # Give the page some time to load\n",
        "            time.sleep(waiting_seconds)  # You can adjust the sleep time depending on your network speed\n",
        "\n",
        "            page_title = driver.title\n",
        "            print(f'[{i}] {page_title} {url_prefix}{dtxsid}')\n",
        "\n",
        "            # Locate the <span> element with exact text \"Export data\"\n",
        "            # span_element = driver.find_elements(By.XPATH, \"//span//div//span[text()='Export Data']\")\n",
        "\n",
        "            # span_element = driver.find_element(By.XPATH, \"//span[text()='Export Data']\")\n",
        "            span_element = driver.find_element(By.ID, \"bioactivitySummary\")\n",
        "            driver.execute_script(f\"window.scrollTo(0, {span_element.location['y'] - 50});\")\n",
        "\n",
        "            actions_activate = ActionChains(driver)\n",
        "\n",
        "            # Alternatively, using ActionChains (if needed)\n",
        "            actions_activate.move_by_offset(1169, 20).click()\n",
        "            actions_activate.move_by_offset(407, 0).click()\n",
        "            actions_activate.move_by_offset(-328, 105).click()\n",
        "            actions_activate.move_by_offset(33, 110).click()\n",
        "\n",
        "            # actions_save = ActionChains(driver)\n",
        "            actions_activate.move_by_offset(-1033, -225).click()\n",
        "            # driver.save_screenshot('test3.png')\n",
        "            actions_activate.move_by_offset(80, 45).click().perform()\n",
        "            time.sleep(waiting_seconds)\n",
        "\n",
        "            driver.quit()\n",
        "\n",
        "    else:\n",
        "        print(f'page {url} is not available')\n"
      ]
    }
  ],
  "metadata": {
    "colab": {
      "provenance": []
    },
    "kernelspec": {
      "display_name": "toxcast",
      "language": "python",
      "name": "python3"
    },
    "language_info": {
      "codemirror_mode": {
        "name": "ipython",
        "version": 3
      },
      "file_extension": ".py",
      "mimetype": "text/x-python",
      "name": "python",
      "nbconvert_exporter": "python",
      "pygments_lexer": "ipython3",
      "version": "3.10.16"
    }
  },
  "nbformat": 4,
  "nbformat_minor": 0
}
